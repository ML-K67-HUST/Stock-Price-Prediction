{
 "cells": [
  {
   "cell_type": "code",
   "execution_count": 1,
   "metadata": {},
   "outputs": [],
   "source": [
    "#importing yfinance api\n",
    "import yfinance as yf\n",
    "import pandas as pd\n",
    "import pandas_datareader as pdr\n",
    "from datetime import datetime\n",
    "\n",
    "api_key = \"143c9a19a5a05044020a48c6de25ad81\"\n",
    "\n",
    "# Set the data source as \"fred\" \n",
    "pdr.fred.FredReader.api_key = api_key"
   ]
  },
  {
   "cell_type": "code",
   "execution_count": 2,
   "metadata": {},
   "outputs": [],
   "source": [
    "#crawling data from yFinance\n",
    "def fetch_stock_data(symbol, period):\n",
    "    stock = yf.Ticker(symbol)\n",
    "    historical_data = stock.history(period=period)\n",
    "    selected_data = historical_data[['Open', 'High', 'Low', 'Close', 'Volume']]\n",
    "    selected_data['Date'] = historical_data.index.date\n",
    "    return selected_data"
   ]
  },
  {
   "cell_type": "code",
   "execution_count": 3,
   "metadata": {},
   "outputs": [],
   "source": [
    "#saving the data into csv\n",
    "def save_to_csv(data, symbol):\n",
    "    file_name = f\"{symbol}_historical_data_yfinance.csv\"\n",
    "    data.to_csv(file_name, index=False)"
   ]
  },
  {
   "cell_type": "code",
   "execution_count": 4,
   "metadata": {},
   "outputs": [
    {
     "name": "stderr",
     "output_type": "stream",
     "text": [
      "C:\\Users\\kalle\\AppData\\Local\\Temp\\ipykernel_18972\\575552300.py:6: SettingWithCopyWarning: \n",
      "A value is trying to be set on a copy of a slice from a DataFrame.\n",
      "Try using .loc[row_indexer,col_indexer] = value instead\n",
      "\n",
      "See the caveats in the documentation: https://pandas.pydata.org/pandas-docs/stable/user_guide/indexing.html#returning-a-view-versus-a-copy\n",
      "  selected_data['Date'] = historical_data.index.date\n"
     ]
    }
   ],
   "source": [
    "#changing symbol (stock name) and period to get the csv file with the data\n",
    "symbol = \"MSFT\"\n",
    "period = \"10y\"\n",
    "stock_data = fetch_stock_data(symbol,period)\n",
    "save_to_csv(stock_data, symbol)"
   ]
  },
  {
   "cell_type": "code",
   "execution_count": 5,
   "metadata": {},
   "outputs": [],
   "source": [
    "#crawling data from FRED\n",
    "def fetch_and_save_data(series_name, start_date, end_date):\n",
    "    data = pdr.get_data_fred(series_name, start_date, end_date)\n",
    "    file_name = f\"{series_name}_data.csv\"\n",
    "    data.to_csv(file_name)\n",
    "\n"
   ]
  },
  {
   "cell_type": "code",
   "execution_count": 6,
   "metadata": {},
   "outputs": [],
   "source": [
    "#changing series name, start and end date to get the desired data in a csv file\n",
    "series_name = \"GDP\"\n",
    "start_date = datetime(2013, 11, 1)\n",
    "end_date = datetime(2023, 11, 1)\n",
    "\n",
    "fetch_and_save_data(series_name, start_date, end_date)"
   ]
  }
 ],
 "metadata": {
  "kernelspec": {
   "display_name": "Python 3",
   "language": "python",
   "name": "python3"
  },
  "language_info": {
   "codemirror_mode": {
    "name": "ipython",
    "version": 3
   },
   "file_extension": ".py",
   "mimetype": "text/x-python",
   "name": "python",
   "nbconvert_exporter": "python",
   "pygments_lexer": "ipython3",
   "version": "3.10.4"
  }
 },
 "nbformat": 4,
 "nbformat_minor": 2
}
